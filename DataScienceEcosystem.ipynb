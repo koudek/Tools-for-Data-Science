{
 "cells": [
  {
   "cell_type": "markdown",
   "id": "fcc9495e-7d81-480a-845b-f1bfbb7fcc67",
   "metadata": {
    "tags": []
   },
   "source": [
    "# Data Science Tools and Ecosystem"
   ]
  },
  {
   "cell_type": "markdown",
   "id": "4a907a73-a078-434d-a47b-b466ee31861d",
   "metadata": {},
   "source": [
    "In this notebook, Data Science Tools and Ecosystem are summarized."
   ]
  },
  {
   "cell_type": "markdown",
   "id": "b82537fa-17f2-479e-b5ce-38f12c06ece9",
   "metadata": {},
   "source": [
    "**Objectives  :**\n",
    "some of the key takeaways from the course\n",
    "- R\n",
    "- Julia\n",
    "-  Python"
   ]
  },
  {
   "cell_type": "markdown",
   "id": "f55f8c32-e132-46ec-b2ee-6a5bbffe4cf7",
   "metadata": {},
   "source": [
    "Some of the popular languages that Data Scientists use are:\n",
    "1. Python\n",
    "2. Julia\n",
    "3. R"
   ]
  },
  {
   "cell_type": "markdown",
   "id": "f19322ad-cefd-4b12-8556-3ab2d1dbe742",
   "metadata": {},
   "source": [
    "|Data Science Tools|\n",
    "|-------------------|\n",
    "|jupyter Lab|\n",
    "|R studio|\n",
    "|VS studio Code|"
   ]
  },
  {
   "cell_type": "markdown",
   "id": "bb04768f-b6b2-42b9-8754-b0e1236b35e1",
   "metadata": {},
   "source": [
    "### Below are a few examples of evaluating arithmetic expressions in Python."
   ]
  },
  {
   "cell_type": "code",
   "execution_count": 2,
   "id": "53db87ad-75bd-4584-adc3-9d1eecc91b5e",
   "metadata": {},
   "outputs": [
    {
     "data": {
      "text/plain": [
       "17"
      ]
     },
     "execution_count": 2,
     "metadata": {},
     "output_type": "execute_result"
    }
   ],
   "source": [
    "# This a simple arithmetic expression to mutiply then add integers.\n",
    "(3*4)+5"
   ]
  },
  {
   "cell_type": "code",
   "execution_count": 5,
   "id": "8ffe6fe9-cbc2-4ad5-8a26-09d534b6ed49",
   "metadata": {},
   "outputs": [
    {
     "data": {
      "text/plain": [
       "3.3333333333333335"
      ]
     },
     "execution_count": 5,
     "metadata": {},
     "output_type": "execute_result"
    }
   ],
   "source": [
    "# This will convert 200 minutes to hours by diving by 60.\n",
    "200/60"
   ]
  },
  {
   "cell_type": "markdown",
   "id": "94b77b3e-1e3b-4c74-b9da-07ec8909a522",
   "metadata": {},
   "source": [
    "## Author\n",
    "Jérémy VINCENT"
   ]
  }
 ],
 "metadata": {
  "kernelspec": {
   "display_name": "Python",
   "language": "python",
   "name": "conda-env-python-py"
  },
  "language_info": {
   "codemirror_mode": {
    "name": "ipython",
    "version": 3
   },
   "file_extension": ".py",
   "mimetype": "text/x-python",
   "name": "python",
   "nbconvert_exporter": "python",
   "pygments_lexer": "ipython3",
   "version": "3.7.12"
  }
 },
 "nbformat": 4,
 "nbformat_minor": 5
}
